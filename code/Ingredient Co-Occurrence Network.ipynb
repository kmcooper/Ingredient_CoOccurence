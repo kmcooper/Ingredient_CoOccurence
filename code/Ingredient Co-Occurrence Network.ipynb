{
 "cells": [
  {
   "attachments": {},
   "cell_type": "markdown",
   "metadata": {},
   "source": [
    "# The Ingredient Co-occurrence Network of packaged foods distributed in the United States\n",
    "Title: \"Open Food Database: Ingredient Co-Occurence Network\"  \n",
    "Author: \"Kate Cooper\"  \n",
    "Creation date: \"2/28/2019\"  \n",
    "Last updated: \"5/30/2019\"  \n",
    "Output: html_document   \n",
    "\n",
    "\n",
    "The following presents a detailed and reproducible methodology of how the ingredient co-occurrence network from the Open Food Database was created. Please direct any questions, comments, or concerns to kmcooper [at] unomaha [dot] edu.\n",
    "\n",
    "## 1. Data Download \n",
    "The data used for this analysis was downloaded from https://world.openfoodfacts.org/data on 03-21-2019 at 9:57am as a CSV file. The file folder hierarchy I have set up assumes you are in your home directory and have created a folder called `ingredient_network` with subfolders `ingredient_network/data` and `ingredient_network/code`. All code needed for the `ingredient_network/code` folder is available on the Github.\n",
    "\n",
    "**Environment setup:**  \n",
    "1. Set your working directory as the variable `workingDir`  \n",
    "2. The code assumes in your working directory, you have subfolders:  `*workingDir/data*` and `*workingDir/code*`  \n",
    "\n",
    "You will need to set each of the following variables:\n",
    "* `workingDir`: The main directory where you want to work; I used `/ingredient_network/` \n",
    "* `dataDir`: This should point to the location of the `workingDir/data/` directory\n",
    "* `codeDir`: This should point to the location of the `workingDir/code/` directory\n",
    "* `hash_infile`: The name of the file you will use to create the ingredient network\n",
    "* `hash_outfile`: The name of the file containing a hash of ingredients as keys and count as values\n",
    "* `network_rawfile`: The name of the network .sif file generated from the code below\n"
   ]
  },
  {
   "cell_type": "code",
   "execution_count": 8,
   "metadata": {},
   "outputs": [],
   "source": [
    "#\n",
    "## Set variables\n",
    "#\n",
    "workingDir = \"/Users/katedempsey/Documents/Research/UNO/CooperLab/ingredient_network/\"\n",
    "dataDir = \"/Users/katedempsey/Documents/Research/UNO/CooperLab/ingredient_network/data/\"\n",
    "codeDir = \"/Users/katedempsey/Documents/Research/UNO/CooperLab/ingredient_network/code/\"\n",
    "hash_infile = \"ingredients.tab\"\n",
    "hash_outfile = \"ingredients.hash.txt\"\n",
    "network_rawfile = \"ingredients.network.sif\"\n"
   ]
  },
  {
   "cell_type": "markdown",
   "metadata": {},
   "source": [
    "At time of download (March 2019), the CSV file downloaded was 2.21GB, so plan accordingly if you need space. The file itself contained 798,919 lines by wordcount and is tab-delimited."
   ]
  },
  {
   "cell_type": "code",
   "execution_count": null,
   "metadata": {},
   "outputs": [],
   "source": [
    "#\n",
    "## Change to the data directory and download the file from the Open Food Database\n",
    "#\n",
    "setwd(paste0(workingDir,\"data\"))\n",
    "ret = download.file(\"https://static.openfoodfacts.org/data/en.openfoodfacts.org.products.csv\",\"raw_data.csv\")\n",
    "system('wc -l raw_data.csv')\n"
   ]
  },
  {
   "cell_type": "markdown",
   "metadata": {},
   "source": [
    "The dataset itself contains a lot of information; at this exploratory stage we only would like to investigate ingredients per product.   \n",
    "We also have to check the following:\n",
    "* Are there dupliate products in the data?\n",
    "* Are all ingredients named in the same way?\n",
    "\n",
    "First, we will check if there are duplicates by barcode, the first column in the dataset. We will search only for foods sold in the United States (column 32). We also want to include the ingredients (columnt 35), and any allergens that may be noted (columns 36 and 37)."
   ]
  },
  {
   "cell_type": "code",
   "execution_count": null,
   "metadata": {},
   "outputs": [],
   "source": [
    "system('cut -f 1,32,35,36,37 raw_data.csv | grep \\'United States\\' | uniq | wc -l')"
   ]
  },
  {
   "cell_type": "markdown",
   "metadata": {},
   "source": [
    "We want to look at product by barcode as a unique ID for the product and we will make our ingredient network by comparing ingredients from the \"ingredients\" text in column 35, so in the next steps we extract columns 1 and 35 only from the data, and remove duplicates. This cuts our file, now named `raw_ingredients.txt` down to a much more manageable size of 38.5MB."
   ]
  },
  {
   "cell_type": "code",
   "execution_count": null,
   "metadata": {},
   "outputs": [],
   "source": [
    "system('cut -f 1,32,35 raw_data.csv | grep \\'^\\\\d*\\tUnited States\\t.*\\' | cut -f 1,3 > raw_ingredients.txt ')"
   ]
  },
  {
   "cell_type": "markdown",
   "metadata": {},
   "source": [
    "We note that there are 174,785 rows (unique barcodes for foods in the United States) listed in our raw_ingredients file. It is assumed that entries into the Open Food Database are not reviewed for correctness [citation needed], but the 2004 Food Allergen Labeling Consumer Protection Act (FALCPA), which took effect in January 2006, requires all food labels in the United States to identify if a product contains one of the eight major allergens. ([Source](https://www.fda.gov/food/guidanceregulation/guidancedocumentsregulatoryinformation/allergens/ucm106890.htm))"
   ]
  },
  {
   "cell_type": "code",
   "execution_count": null,
   "metadata": {},
   "outputs": [],
   "source": [
    "system('cut -f 1 raw_ingredients.txt | uniq | wc -l')"
   ]
  },
  {
   "cell_type": "markdown",
   "metadata": {},
   "source": [
    "## 2. Data Pre-processing\n",
    "Next, we want to remove any barcodes that do not have ingredients associated with them.   \n",
    "To do this, lets read the file into R and begin manipulating it in memory."
   ]
  },
  {
   "cell_type": "code",
   "execution_count": null,
   "metadata": {},
   "outputs": [],
   "source": [
    "raw_ingredients = read.csv(\"raw_ingredients.txt\",sep=\"\\t\",header = TRUE)\n",
    "names(raw_ingredients) <- c(\"barcode\",\"ingredients_text\")"
   ]
  },
  {
   "cell_type": "markdown",
   "metadata": {},
   "source": [
    "This should result in a dataframe called `raw_ingredients` that contains 499,879 observations of 2 variables. Next, we remove duplicates by removing rows for which `ingredients_text` is empty."
   ]
  },
  {
   "cell_type": "code",
   "execution_count": null,
   "metadata": {},
   "outputs": [],
   "source": [
    "ingredients <- as.data.frame(raw_ingredients[-which(raw_ingredients$ingredients_text == \"\"), ])\n",
    "\n",
    "# You can now remove the raw_ingredients variable \n",
    "# if you are feeling confident in the reproducibility of your project\n",
    "# To do this, uncomment the command below\n",
    "\n",
    "#remove(raw_ingredients)\n"
   ]
  },
  {
   "cell_type": "markdown",
   "metadata": {},
   "source": [
    "Once this is complete, we can begin to investigate and compare ingredients. Taking a brief look at the data, the first challenge to overcome is the case of the text; evaluating \"Salt\" and \"salt\" as equal ingredients will be easier if they are written in the same case. So next we change the ingredients list to all lowercase."
   ]
  },
  {
   "cell_type": "code",
   "execution_count": null,
   "metadata": {},
   "outputs": [],
   "source": [
    "ingredients$ingredients_text <- tolower(ingredients$ingredients_text)"
   ]
  },
  {
   "cell_type": "markdown",
   "metadata": {},
   "source": [
    "Certain ingredients are followed by a percentage (i.e. \"milk chocolate 32.7%\"). For purposes of building our co-occurence network, we will disregard these percentages and remove them, both for US (32.7%) and European (32,7%) formatting styles."
   ]
  },
  {
   "cell_type": "code",
   "execution_count": null,
   "metadata": {},
   "outputs": [],
   "source": [
    "ingredients$ingredients_text <-gsub('\\\\d+[.,]*\\\\d*\\\\s{0,1}%','',ingredients$ingredients_text)"
   ]
  },
  {
   "cell_type": "markdown",
   "metadata": {},
   "source": [
    "Further, we want to make similar changes in formatting of special characters to typical characters to make comparability of ingredients similar. For example, we want to remove the term \"organic\" from ingredients as organic is not regulated by the FDA."
   ]
  },
  {
   "cell_type": "code",
   "execution_count": null,
   "metadata": {},
   "outputs": [],
   "source": [
    "ingredients$ingredients_text <-gsub('organic ','',ingredients$ingredients_text, ignore.case = TRUE)\n",
    "ingredients$ingredients_text <-gsub('org ','',ingredients$ingredients_text, ignore.case = TRUE)\n",
    "ingredients$ingredients_text <-gsub('certified organic','',ingredients$ingredients_text, ignore.case = TRUE)"
   ]
  },
  {
   "cell_type": "markdown",
   "metadata": {},
   "source": [
    "### 2.1 Remove special letters and characters and replace with standard [a-z] or otherwise"
   ]
  },
  {
   "cell_type": "code",
   "execution_count": null,
   "metadata": {},
   "outputs": [],
   "source": [
    "ingredients$ingredients_text <-gsub('[éèë]','e',ingredients$ingredients_text)\n",
    "ingredients$ingredients_text <-gsub('ï','i',ingredients$ingredients_text)\n",
    "ingredients$ingredients_text <-gsub('[âà]','a',ingredients$ingredients_text)\n",
    "ingredients$ingredients_text <-gsub('ô','o',ingredients$ingredients_text)\n",
    "ingredients$ingredients_text <-gsub('_','',ingredients$ingredients_text)\n",
    "ingredients$ingredients_text <-gsub('?','',ingredients$ingredients_text)\n",
    "ingredients$ingredients_text <-gsub('\\\\[\\\\]','',ingredients$ingredients_text)"
   ]
  },
  {
   "cell_type": "markdown",
   "metadata": {},
   "source": [
    "### 2.2 Remove the term \"ingredients\" as it is redundant"
   ]
  },
  {
   "cell_type": "code",
   "execution_count": null,
   "metadata": {},
   "outputs": [],
   "source": [
    "ingredients$ingredients_text <-gsub('ingredient[s]*\\\\s{0,1}\\\\:*','',ingredients$ingredients_text)\n",
    "ingredients$ingredients_text <-gsub('ingrédient[s]*\\\\s{0,1}\\\\:*','',ingredients$ingredients_text)\n",
    "ingredients$ingredients_text <-gsub('ingrédiente[ns]*\\\\s{0,1}\\\\:*','',ingredients$ingredients_text)"
   ]
  },
  {
   "cell_type": "markdown",
   "metadata": {},
   "source": [
    "### 2.3 Remove preparatory, quantities, or provenance terms "
   ]
  },
  {
   "cell_type": "code",
   "execution_count": null,
   "metadata": {},
   "outputs": [],
   "source": [
    "ingredients$ingredients_text <-gsub('amount','',ingredients$ingredients_text)\n",
    "ingredients$ingredients_text <-gsub('serving','',ingredients$ingredients_text)\n",
    "ingredients$ingredients_text <-gsub('nourishment','',ingredients$ingredients_text)\n",
    "ingredients$ingredients_text <-gsub('nourishment','',ingredients$ingredients_text)\n",
    "ingredients$ingredients_text <-gsub('made from ','',ingredients$ingredients_text)\n",
    "ingredients$ingredients_text <-gsub('only ','',ingredients$ingredients_text)\n",
    "ingredients$ingredients_text <-gsub('pure ','',ingredients$ingredients_text)\n",
    "ingredients$ingredients_text <-gsub('contains less than','',ingredients$ingredients_text)\n",
    "ingredients$ingredients_text <-gsub('vital ','',ingredients$ingredients_text)\n",
    "ingredients$ingredients_text <-gsub('cultured','',ingredients$ingredients_text)\n",
    "ingredients$ingredients_text <-gsub('pasteurized','',ingredients$ingredients_text)\n",
    "ingredients$ingredients_text <-gsub('distilled','',ingredients$ingredients_text)\n",
    "ingredients$ingredients_text <-gsub('california','',ingredients$ingredients_text)\n",
    "ingredients$ingredients_text <-gsub('grade a+','',ingredients$ingredients_text)\n",
    "ingredients$ingredients_text <-gsub('extra','',ingredients$ingredients_text)\n",
    "ingredients$ingredients_text <-gsub('virgin','',ingredients$ingredients_text)\n",
    "ingredients$ingredients_text <-gsub('free range','',ingredients$ingredients_text)\n",
    "ingredients$ingredients_text <-gsub('french','',ingredients$ingredients_text)\n",
    "ingredients$ingredients_text <-gsub('high fiber','',ingredients$ingredients_text)\n",
    "ingredients$ingredients_text <-gsub('low fat','',ingredients$ingredients_text)\n",
    "ingredients$ingredients_text <-gsub('whole ','',ingredients$ingredients_text)\n",
    "ingredients$ingredients_text <-gsub('rolled ','',ingredients$ingredients_text)\n",
    "ingredients$ingredients_text <-gsub('expeller ','',ingredients$ingredients_text)\n",
    "ingredients$ingredients_text <-gsub('pressed ','',ingredients$ingredients_text)\n",
    "ingredients$ingredients_text <-gsub('raw ','',ingredients$ingredients_text)\n",
    "ingredients$ingredients_text <-gsub('evaporated ','',ingredients$ingredients_text)\n",
    "ingredients$ingredients_text <-gsub('cow\\'s milk','milk',ingredients$ingredients_text)\n",
    "ingredients$ingredients_text <-gsub('non-gmo','',ingredients$ingredients_text)\n",
    "ingredients$ingredients_text <-gsub('refined ','',ingredients$ingredients_text)\n",
    "ingredients$ingredients_text <-gsub('milled ','',ingredients$ingredients_text)\n",
    "ingredients$ingredients_text <-gsub('soft ','',ingredients$ingredients_text)\n",
    "ingredients$ingredients_text <-gsub('hard ','',ingredients$ingredients_text)\n",
    "ingredients$ingredients_text <-gsub('toasted ','',ingredients$ingredients_text)\n",
    "ingredients$ingredients_text <-gsub('sliced ','',ingredients$ingredients_text)\n",
    "ingredients$ingredients_text <-gsub('mediterranean ','',ingredients$ingredients_text)\n",
    "ingredients$ingredients_text <-gsub('peeled ','',ingredients$ingredients_text)\n",
    "ingredients$ingredients_text <-gsub('cored ','',ingredients$ingredients_text)\n",
    "ingredients$ingredients_text <-gsub('dry ','',ingredients$ingredients_text)\n",
    "ingredients$ingredients_text <-gsub('roasted ','',ingredients$ingredients_text)\n",
    "ingredients$ingredients_text <-gsub('mountain ','',ingredients$ingredients_text)\n",
    "ingredients$ingredients_text <-gsub('spring ','',ingredients$ingredients_text)\n",
    "ingredients$ingredients_text <-gsub('diced ','',ingredients$ingredients_text)\n",
    "ingredients$ingredients_text <-gsub('sparkling','carbonated',ingredients$ingredients_text)\n",
    "ingredients$ingredients_text <-gsub('cooked ','',ingredients$ingredients_text)\n",
    "ingredients$ingredients_text <-gsub('freshly made from: ','',ingredients$ingredients_text)\n",
    "ingredients$ingredients_text <-gsub('concentrated ','',ingredients$ingredients_text)\n",
    "ingredients$ingredients_text <-gsub('stone-ground ','',ingredients$ingredients_text)\n",
    "ingredients$ingredients_text <-gsub('partially hydrogenated','',ingredients$ingredients_text)\n",
    "ingredients$ingredients_text <-gsub('steel-cut ','',ingredients$ingredients_text)\n",
    "ingredients$ingredients_text <-gsub('steel cut ','',ingredients$ingredients_text)\n",
    "ingredients$ingredients_text <-gsub('thick cut ','',ingredients$ingredients_text)\n",
    "ingredients$ingredients_text <-gsub('thick-cut ','',ingredients$ingredients_text)\n",
    "ingredients$ingredients_text <-gsub('gourmet ','',ingredients$ingredients_text)\n",
    "ingredients$ingredients_text <-gsub('fresh ','',ingredients$ingredients_text)\n",
    "ingredients$ingredients_text <-gsub('frozen ','',ingredients$ingredients_text)\n",
    "ingredients$ingredients_text <-gsub('natural ','',ingredients$ingredients_text)\n",
    "ingredients$ingredients_text <-gsub('non-genetically modified ','',ingredients$ingredients_text)\n",
    "ingredients$ingredients_text <-gsub('genetically modified','',ingredients$ingredients_text)\n",
    "ingredients$ingredients_text <-gsub('and nothing else','',ingredients$ingredients_text)\n",
    "ingredients$ingredients_text <-gsub('love ','',ingredients$ingredients_text)\n",
    "ingredients$ingredients_text <-gsub('nothing ','',ingredients$ingredients_text)\n",
    "ingredients$ingredients_text <-gsub('italian ','',ingredients$ingredients_text)\n",
    "ingredients$ingredients_text <-gsub('imported ','',ingredients$ingredients_text)\n",
    "ingredients$ingredients_text <-gsub('hand-picked ','',ingredients$ingredients_text)\n",
    "ingredients$ingredients_text <-gsub('dried ','',ingredients$ingredients_text)\n",
    "ingredients$ingredients_text <-gsub('crushed ','',ingredients$ingredients_text)\n",
    "ingredients$ingredients_text <-gsub('added to preserve freshness','',ingredients$ingredients_text)\n",
    "ingredients$ingredients_text <-gsub('for freshness','',ingredients$ingredients_text)\n",
    "ingredients$ingredients_text <-gsub('to preserve freshness','',ingredients$ingredients_text)\n",
    "ingredients$ingredients_text <-gsub('mechanically','',ingredients$ingredients_text)\n",
    "ingredients$ingredients_text <-gsub('mini','',ingredients$ingredients_text)\n",
    "ingredients$ingredients_text <-gsub('naturally','',ingredients$ingredients_text)\n",
    "ingredients$ingredients_text <-gsub('h2o','water',ingredients$ingredients_text)\n",
    "ingredients$ingredients_text <-gsub('\\\\*','',ingredients$ingredients_text)\n",
    "ingredients$ingredients_text <-gsub('as a preservative','',ingredients$ingredients_text)\n",
    "ingredients$ingredients_text <-gsub('juice from','',ingredients$ingredients_text)\n",
    "ingredients$ingredients_text <-gsub('exclusively','',ingredients$ingredients_text)\n",
    "ingredients$ingredients_text <-gsub('ground','',ingredients$ingredients_text)\n",
    "ingredients$ingredients_text <-gsub('shaved','',ingredients$ingredients_text)\n",
    "ingredients$ingredients_text <-gsub('kosher','',ingredients$ingredients_text)\n",
    "ingredients$ingredients_text <-gsub('ripe','',ingredients$ingredients_text)\n",
    "ingredients$ingredients_text <-gsub('\\\\.','',ingredients$ingredients_text)\n",
    "ingredients$ingredients_text <-gsub('nitrogen-flushed to maintain freshness','',ingredients$ingredients_text)\n",
    "ingredients$ingredients_text <-gsub('farm-raised','',ingredients$ingredients_text)\n",
    "ingredients$ingredients_text <-gsub('boneless','',ingredients$ingredients_text)\n",
    "ingredients$ingredients_text <-gsub('skinless','',ingredients$ingredients_text)\n",
    "ingredients$ingredients_text <-gsub('wild caught','',ingredients$ingredients_text)\n",
    "ingredients$ingredients_text <-gsub('parboiled','',ingredients$ingredients_text)\n",
    "ingredients$ingredients_text <-gsub('preparboiled','',ingredients$ingredients_text)\n",
    "ingredients$ingredients_text <-gsub('individually wrapped','',ingredients$ingredients_text)\n",
    "ingredients$ingredients_text <-gsub('all nat','',ingredients$ingredients_text)\n",
    "ingredients$ingredients_text <-gsub('wq all nat','',ingredients$ingredients_text)\n",
    "ingredients$ingredients_text <-gsub('young','',ingredients$ingredients_text)\n",
    "ingredients$ingredients_text <-gsub('aged','',ingredients$ingredients_text)\n",
    "ingredients$ingredients_text <-gsub('premium','',ingredients$ingredients_text)\n",
    "ingredients$ingredients_text <-gsub('added to retain color','',ingredients$ingredients_text)\n",
    "ingredients$ingredients_text <-gsub('blend of','',ingredients$ingredients_text)\n",
    "ingredients$ingredients_text <-gsub('in shell','',ingredients$ingredients_text)\n",
    "ingredients$ingredients_text <-gsub('with their juices','',ingredients$ingredients_text)\n",
    "ingredients$ingredients_text <-gsub('selected ','',ingredients$ingredients_text)\n",
    "ingredients$ingredients_text <-gsub('with calcium ascorbate to promote whiteness','',ingredients$ingredients_text)\n",
    "ingredients$ingredients_text <-gsub('to promote freshness','',ingredients$ingredients_text)\n",
    "ingredients$ingredients_text <-gsub('not from concentrate','',ingredients$ingredients_text)\n",
    "ingredients$ingredients_text <-gsub('for color','',ingredients$ingredients_text)\n",
    "ingredients$ingredients_text <-gsub('real','',ingredients$ingredients_text)\n",
    "ingredients$ingredients_text <-gsub('propellant-free','',ingredients$ingredients_text)\n",
    "ingredients$ingredients_text <-gsub('gluten-free','',ingredients$ingredients_text)\n",
    "ingredients$ingredients_text <-gsub('grass-fed','',ingredients$ingredients_text)\n",
    "ingredients$ingredients_text <-gsub('grass fed','',ingredients$ingredients_text)\n",
    "ingredients$ingredients_text <-gsub('modified','',ingredients$ingredients_text)\n",
    "ingredients$ingredients_text <-gsub('pitted','',ingredients$ingredients_text)\n",
    "ingredients$ingredients_text <-gsub('reconstituted','',ingredients$ingredients_text)\n",
    "ingredients$ingredients_text <-gsub('cage\\\\-free','',ingredients$ingredients_text)\n",
    "ingredients$ingredients_text <-gsub('cage free','',ingredients$ingredients_text)\n",
    "ingredients$ingredients_text <-gsub('free\\\\-range','',ingredients$ingredients_text)\n",
    "ingredients$ingredients_text <-gsub('freeze-','',ingredients$ingredients_text)\n",
    "ingredients$ingredients_text <-gsub('wild-harvested','',ingredients$ingredients_text)\n",
    "ingredients$ingredients_text <-gsub('contains:','',ingredients$ingredients_text)\n",
    "ingredients$ingredients_text <-gsub('flavors','flavor',ingredients$ingredients_text)\n",
    "ingredients$ingredients_text <-gsub('less than','',ingredients$ingredients_text)\n",
    "ingredients$ingredients_text <-gsub('of:','',ingredients$ingredients_text)\n",
    "ingredients$ingredients_text <-gsub('filtered','',ingredients$ingredients_text)\n",
    "ingredients$ingredients_text <-gsub('contents:','',ingredients$ingredients_text)\n",
    "ingredients$ingredients_text <-gsub('pre-washed','',ingredients$ingredients_text)\n",
    "ingredients$ingredients_text <-gsub('in-shell','',ingredients$ingredients_text)\n",
    "ingredients$ingredients_text <-gsub('in-the-shell','',ingredients$ingredients_text)\n",
    "ingredients$ingredients_text <-gsub('carragenan','carrageenan',ingredients$ingredients_text)\n",
    "ingredients$ingredients_text <-gsub('carrageena','carrageenan',ingredients$ingredients_text)\n",
    "ingredients$ingredients_text <-gsub('carrageenen','carrageenan',ingredients$ingredients_text)\n",
    "ingredients$ingredients_text <-gsub('carrageen','carrageenan',ingredients$ingredients_text)\n",
    "ingredients$ingredients_text <-gsub('enriched','',ingredients$ingredients_text)\n",
    "ingredients$ingredients_text <-gsub('unbleached','',ingredients$ingredients_text)\n",
    "ingredients$ingredients_text <-gsub('bleached','',ingredients$ingredients_text)\n",
    "ingredients$ingredients_text <-gsub('mono and diglycerides','monoglycerides and diglycerides',ingredients$ingredients_text)\n",
    "ingredients$ingredients_text <-gsub('or less of the following','',ingredients$ingredients_text)\n",
    "ingredients$ingredients_text <-gsub('or less of each of the following','',ingredients$ingredients_text)\n",
    "ingredients$ingredients_text <-gsub('or less of','',ingredients$ingredients_text)\n",
    "ingredients$ingredients_text <-gsub('or less','',ingredients$ingredients_text)\n",
    "ingredients$ingredients_text <-gsub('distributed by','',ingredients$ingredients_text)\n",
    "ingredients$ingredients_text <-gsub('the','',ingredients$ingredients_text)\n",
    "ingredients$ingredients_text <-gsub('contains','',ingredients$ingredients_text)\n",
    "ingredients$ingredients_text <-gsub('with','',ingredients$ingredients_text)\n",
    "ingredients$ingredients_text <-gsub('textured','',ingredients$ingredients_text)\n",
    "ingredients$ingredients_text <-gsub('more of','',ingredients$ingredients_text)\n",
    "ingredients$ingredients_text <-gsub('following','',ingredients$ingredients_text)\n",
    "ingredients$ingredients_text <-gsub('product','',ingredients$ingredients_text)\n",
    "ingredients$ingredients_text <-gsub('strach','starch',ingredients$ingredients_text)\n",
    "ingredients$ingredients_text <-gsub('emulsidiers','emulsifiers',ingredients$ingredients_text)\n",
    "ingredients$ingredients_text <-gsub('occurring','',ingredients$ingredients_text)\n",
    "ingredients$ingredients_text <-gsub('or of following','',ingredients$ingredients_text)\n",
    "ingredients$ingredients_text <-gsub('\\\\(\\\\)','',ingredients$ingredients_text)\n",
    "ingredients$ingredients_text <-gsub('defatted','',ingredients$ingredients_text)\n",
    "ingredients$ingredients_text <-gsub('fractionated','',ingredients$ingredients_text)\n",
    "ingredients$ingredients_text <-gsub('hydrogenated','',ingredients$ingredients_text)\n",
    "ingredients$ingredients_text <-gsub('preserved','',ingredients$ingredients_text)\n",
    "ingredients$ingredients_text <-gsub('dry','',ingredients$ingredients_text)\n",
    "ingredients$ingredients_text <-gsub('modified','',ingredients$ingredients_text)\n",
    "ingredients$ingredients_text <-gsub('partially','',ingredients$ingredients_text)\n",
    "ingredients$ingredients_text <-gsub('cultured','',ingredients$ingredients_text)\n",
    "ingredients$ingredients_text <-gsub('or less of each of the following','',ingredients$ingredients_text)"
   ]
  },
  {
   "cell_type": "markdown",
   "metadata": {},
   "source": [
    "### 2.4 Remove names"
   ]
  },
  {
   "cell_type": "code",
   "execution_count": null,
   "metadata": {},
   "outputs": [],
   "source": [
    "ingredients$ingredients_text <-gsub('bragg\\'s ','',ingredients$ingredients_text)\n",
    "ingredients$ingredients_text <-gsub('bart \\\\& judy\\'s','',ingredients$ingredients_text)\n",
    "ingredients$ingredients_text <-gsub('nagai\\'s','',ingredients$ingredients_text)\n",
    "ingredients$ingredients_text <-gsub('best annie\\'s friends','',ingredients$ingredients_text)\n",
    "ingredients$ingredients_text <-gsub('annie\\'s','',ingredients$ingredients_text)\n",
    "ingredients$ingredients_text <-gsub('what\\'s inside?','',ingredients$ingredients_text)\n",
    "ingredients$ingredients_text <-gsub('newman\\'s own','',ingredients$ingredients_text)\n",
    "ingredients$ingredients_text <-gsub('dr\\\\.\\\\s*kefir\\'s','',ingredients$ingredients_text)\n",
    "ingredients$ingredients_text <-gsub('rockin\\' poppin\\'','',ingredients$ingredients_text)\n",
    "ingredients$ingredients_text <-gsub('hellmann\\'s','',ingredients$ingredients_text)\n",
    "ingredients$ingredients_text <-gsub('us grown ','',ingredients$ingredients_text)\n",
    "ingredients$ingredients_text <-gsub('new zealand ','',ingredients$ingredients_text)\n",
    "ingredients$ingredients_text <-gsub('orville redenbacher\\'s ','',ingredients$ingredients_text)\n",
    "ingredients$ingredients_text <-gsub('opal ','',ingredients$ingredients_text)\n",
    "ingredients$ingredients_text <-gsub('of modena','',ingredients$ingredients_text)\n",
    "ingredients$ingredients_text <-gsub('(sourced from the united kingdom)','',ingredients$ingredients_text)\n",
    "ingredients$ingredients_text <-gsub(' may contain a blend of united states, brazilian, mexican, belize and south african concentrates.','',ingredients$ingredients_text)\n",
    "ingredients$ingredients_text <-gsub('from emilia romagna.','',ingredients$ingredients_text)\n",
    "ingredients$ingredients_text <-gsub('spanish','',ingredients$ingredients_text)\n",
    "ingredients$ingredients_text <-gsub('himalayan','',ingredients$ingredients_text)\n",
    "ingredients$ingredients_text <-gsub('irish\\\\-style','',ingredients$ingredients_text)\n",
    "ingredients$ingredients_text <-gsub('scott\\'s','',ingredients$ingredients_text)\n",
    "ingredients$ingredients_text <-gsub('pedro ximenez','',ingredients$ingredients_text)\n",
    "ingredients$ingredients_text <-gsub('best','',ingredients$ingredients_text)\n",
    "ingredients$ingredients_text <-gsub('friends','',ingredients$ingredients_text)\n",
    "ingredients$ingredients_text <-gsub('teacher\\'s ','',ingredients$ingredients_text)\n",
    "ingredients$ingredients_text <-gsub('barley\\'s','',ingredients$ingredients_text)\n",
    "ingredients$ingredients_text <-gsub('baker\\'s','bakers',ingredients$ingredients_text)\n",
    "ingredients$ingredients_text <-gsub('brewer\\'s','brewers',ingredients$ingredients_text)\n",
    "ingredients$ingredients_text <-gsub('sheep\\'s','sheeps',ingredients$ingredients_text)\n",
    "ingredients$ingredients_text <-gsub('kroger co','',ingredients$ingredients_text)\n",
    "ingredients$ingredients_text <-gsub('confectioner\\'s','confectioners',ingredients$ingredients_text)\n",
    "ingredients$ingredients_text <-gsub('trader joe\\'s','',ingredients$ingredients_text)\n",
    "ingredients$ingredients_text <-gsub('m\\\\&m\\'s','',ingredients$ingredients_text)\n",
    "ingredients$ingredients_text <-gsub('m\\\\,m\\'s','',ingredients$ingredients_text)"
   ]
  },
  {
   "cell_type": "markdown",
   "metadata": {},
   "source": [
    "### 2.5 Prepare for hashing by removing non-alphabetic special characters"
   ]
  },
  {
   "cell_type": "code",
   "execution_count": null,
   "metadata": {},
   "outputs": [],
   "source": [
    "ingredients$ingredients_text <-gsub('&','and',ingredients$ingredients_text)\n",
    "ingredients$ingredients_text <-gsub('\\\\]',')',ingredients$ingredients_text)\n",
    "ingredients$ingredients_text <-gsub('\\\\[',')',ingredients$ingredients_text)\n",
    "ingredients$ingredients_text <-gsub('\\\\}',')',ingredients$ingredients_text)\n",
    "ingredients$ingredients_text <-gsub('\\\\{',')',ingredients$ingredients_text)\n",
    "ingredients$ingredients_text <-gsub(';',',',ingredients$ingredients_text)\n",
    "ingredients$ingredients_text <-gsub(':',',',ingredients$ingredients_text)\n",
    "ingredients$ingredients_text <-gsub('.','',ingredients$ingredients_text)\n",
    "ingredients$ingredients_text <-gsub('-','',ingredients$ingredients_text)\n",
    "ingredients$ingredients_text <-gsub('-','',ingredients$ingredients_text)\n",
    "ingredients$ingredients_text <-gsub('@','',ingredients$ingredients_text)\n",
    "ingredients$ingredients_text <-gsub('#','',ingredients$ingredients_text)\n",
    "ingredients$ingredients_text <-gsub('!','',ingredients$ingredients_text)\n",
    "ingredients$ingredients_text <-gsub('\\\\/',' or ',ingredients$ingredients_text)\n",
    "ingredients$ingredients_text <-gsub('\\\\|','',ingredients$ingredients_text)\n",
    "ingredients$ingredients_text <-gsub('\\\\%','',ingredients$ingredients_text)\n",
    "ingredients$ingredients_text <-gsub('†','',ingredients$ingredients_text)\n",
    "ingredients$ingredients_text <-gsub('`','',ingredients$ingredients_text)"
   ]
  },
  {
   "cell_type": "markdown",
   "metadata": {},
   "source": [
    "## 3. Create a simple co-occurrence network\n",
    "Next, we want to create a co-occurrence network, where nodes represent ingredients, and an edge drawn between the two nodes will represent a food where the two ingredients co-occur in the ingredients list. We will keep track of the number of times each co-occurrence edge occurs with a simple count. I have written two scripts (`ingredient_hash.pl` and `ingredient_network.pl`) located in the `workingDir/code/` directory that will create a hash of all ingredients and a count of their overall occurrence, as well as the co-occurrence network.\n",
    "\n",
    "\n",
    "### 3.1 Write the ingredients to a .tab file and run the perl scripts"
   ]
  },
  {
   "cell_type": "code",
   "execution_count": null,
   "metadata": {},
   "outputs": [],
   "source": [
    "write.table(ingredients, file = hash_infile,sep='\\t',eol='\\n',quote=FALSE,append=FALSE,row.names = FALSE)\n",
    "\n",
    "#Create an ingredient hash and an ingredient network\n",
    "make_hash_command = paste0(\"perl \",codeDir,\"ingredient_hash.pl \",dataDir,hash_infile,\" \",dataDir,hash_outfile)\n",
    "system(make_hash_command)\n",
    "make_network_command = paste0(\"perl \",codeDir,\"ingredient_network.pl \",dataDir,hash_infile,\" \",dataDir,network_rawfile)\n",
    "system(make_network_command)"
   ]
  },
  {
   "cell_type": "markdown",
   "metadata": {},
   "source": [
    "## 4. Basic Network Analysis in R with igraph\n",
    "Next, we want to read in the network and find out what its like! To do so, we will utilize igraph's network analysis capabilities in R. If you do not have igraph installed, you will need to do so before you can successfully continue by uncommenting the line below:\n",
    "\n",
    "igraph Online Documentation: [Source](https://igraph.org/)"
   ]
  },
  {
   "cell_type": "code",
   "execution_count": null,
   "metadata": {},
   "outputs": [],
   "source": [
    "#install.packages(\"igraph\")\n"
   ]
  },
  {
   "cell_type": "markdown",
   "metadata": {},
   "source": [
    "### 4.1 Read in the network and remove duplicate edges and self-loops"
   ]
  },
  {
   "cell_type": "code",
   "execution_count": null,
   "metadata": {},
   "outputs": [],
   "source": [
    "library(igraph)\n",
    "g_data <- read.csv(network_rawfile,sep = \" \",header = F,as.is = T,col.names = c(\"v1\",\"v2\",\"weight\"))\n",
    "g <- graph_from_data_frame(g_data)\n",
    "\n",
    "#\n",
    "# Double-check that the graph is weighted\n",
    "#\n",
    "is_weighted(g)\n",
    "\n",
    "#\n",
    "# Remove loops and multiple edges, and a troublesome vertex '.'\n",
    "#\n",
    "g <-simplify(g,remove.multiple = T,remove.loops = T)\n",
    "g <- delete.vertices(g,v=\".\")"
   ]
  },
  {
   "cell_type": "markdown",
   "metadata": {},
   "source": [
    "### 4.2 Gather network descriptives"
   ]
  },
  {
   "cell_type": "code",
   "execution_count": null,
   "metadata": {},
   "outputs": [],
   "source": [
    "#Get number of nodes, edges, and edge density\n",
    "length(V(g))\n",
    "length(E(g))\n",
    "graph.density(g)\n",
    "\n",
    "# Get the transitivity or clustering coefficient\n",
    "cc <- transitivity(g,type=\"global\")\n",
    "\n",
    "# Is the graph totally connected? We expect not.\n",
    "is.connected(g)\n",
    "\n",
    "# Centrality Measures\n",
    "# Assortativity\n",
    "ass <- assortativity_degree(g, directed=F)\n",
    "\n",
    "# Closeness\n",
    "close <- closeness(g, mode=\"all\", weights=NA)\n",
    "\n",
    "# Eigenvector centrality\n",
    "eigen <- eigen_centrality(g, directed=FALSE, weights=NA)\n",
    "\n",
    "#\n",
    "#  Note: The commands below take time since the network is large, \n",
    "# so only uncomment if you can step away\n",
    "#\n",
    "\n",
    "# Get the diameter, using edge weights\n",
    "#diam <- diameter(g,directed=FALSE,weights=E(g)$weight)\n",
    "\n",
    "# Betweenness centrality\n",
    "#bet <- betweenness(g, directed=FALSE, weights=NA)\n"
   ]
  },
  {
   "cell_type": "code",
   "execution_count": null,
   "metadata": {},
   "outputs": [],
   "source": [
    "# Examine and plot the degree distribution\n",
    "deg.dist <- degree.distribution(g,cumulative = TRUE,mode=\"all\")\n",
    "plot(deg.dist, main = \"Degree Distribution of the Ingredient Co-Occurence Network\",\n",
    "     col=\"darkblue\",pch=10,cex=0.75,xlab=\"Degree\", ylab=\"Cumulative Frequency\")\n",
    "plot(log(deg.dist,base=10), main = \"Degree Distribution of the Ingredient Co-Occurence Network\",\n",
    "     col=\"darkblue\",pch=10,cex=0.75,xlab=\"Log10(Degree)\", ylab=\"Log10(Cumulative Frequency)\")\n",
    "\n",
    "#Get the top X nodes by degree\n",
    "#Histogram of node degree\n",
    "deg <- degree(g, mode=\"all\")\n",
    "hist(deg, breaks=1:vcount(g)-1, main=\"Histogram of Node Degree\",xlab=\"Degree\",ylab=\"Frequency\")\n",
    "deg <- sort(deg,decreasing = TRUE)\n",
    "top_x = 55\n",
    "hub_list = \"\"\n",
    "for(i in c(1:top_x)){\n",
    "  print(names(deg[i]))\n",
    "  hub_list = c(hub_list,names(deg[i]))\n",
    "}\n",
    "\n",
    "#Get the induced subgraph of the top hub nodes in the network\n",
    "subg <- induced_subgraph(g,vids=hub_list)\n",
    "write.graph(subg,file = paste0(\"top_\",top_x,\"_network.txt\"),format=\"ncol\")\n",
    "write.csv(degree(subg),file = paste0(\"top_\",top_x,\"_node_degree.txt\"))\n",
    "\n",
    "attributes(deg[i])\n",
    "plot(deg)\n",
    "attributes(deg)\n",
    "hs<-authority.score(g,scale = TRUE,weights=NA)\n",
    "attributes(hs)\n",
    "length(hs$vector)\n",
    "\n",
    "#Give the graph a haircut by removing nodes with degree less than or equal to haircut variable\n",
    "for(v in c(1:length(V(g)))){\n",
    "  if(degree(g,v=v)<=haircut_threshold){\n",
    "    print(paste0(v,\"-->\",degree(g,v=v)))\n",
    "    g<-delete.vertices(g,v=v)\n",
    "  }\n",
    "}\n",
    "\n",
    "#Get number of nodes\n",
    "length(V(g))\n",
    "\n",
    "#Get number of edges\n",
    "length(E(g))\n",
    "\n",
    "#Edge Density\n",
    "graph.density(g,loops = FALSE)\n",
    "\n",
    "#Transitivity\n",
    "transitivity(g,type=\"global\")\n",
    "\n",
    "#Is the graph totally connected?\n",
    "is.connected(g)\n",
    "write.graph(g,file = \"outnet.sif\",format=\"ncol\")\n",
    "getwd()\n",
    "\n",
    "install.packages(\"disparityfilter\")\n",
    "library(disparityfilter)\n",
    "E(g)$weight\n",
    "backboned_g <- backbone(g,weights = E(g)$weight,directed = F)"
   ]
  }
 ],
 "metadata": {
  "kernelspec": {
   "display_name": "Python 3",
   "language": "python",
   "name": "python3"
  },
  "language_info": {
   "codemirror_mode": {
    "name": "ipython",
    "version": 3
   },
   "file_extension": ".py",
   "mimetype": "text/x-python",
   "name": "python",
   "nbconvert_exporter": "python",
   "pygments_lexer": "ipython3",
   "version": "3.6.8"
  }
 },
 "nbformat": 4,
 "nbformat_minor": 2
}
